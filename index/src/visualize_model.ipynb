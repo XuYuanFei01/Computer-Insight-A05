{
 "cells": [
  {
   "cell_type": "code",
   "execution_count": 6,
   "metadata": {},
   "outputs": [
    {
     "data": {
      "text/plain": [
       "'resnet.pdf'"
      ]
     },
     "execution_count": 6,
     "metadata": {},
     "output_type": "execute_result"
    }
   ],
   "source": [
    "from resnet import resnet\n",
    "import tensorwatch as tw\n",
    "import torch\n",
    "\n",
    "from torchviz import make_dot\n",
    "\n",
    "net = resnet(in_channel=3, num_classes=1)\n",
    "x=torch.rand(1, 3, 96, 96)\n",
    "y=net(x)\n",
    "g = make_dot(y)\n",
    "g.render('resnet', view=False)"
   ]
  },
  {
   "cell_type": "code",
   "execution_count": null,
   "metadata": {},
   "outputs": [],
   "source": []
  }
 ],
 "metadata": {
  "kernelspec": {
   "display_name": "Python 3",
   "language": "python",
   "name": "python3"
  },
  "language_info": {
   "codemirror_mode": {
    "name": "ipython",
    "version": 3
   },
   "file_extension": ".py",
   "mimetype": "text/x-python",
   "name": "python",
   "nbconvert_exporter": "python",
   "pygments_lexer": "ipython3",
   "version": "3.6.8"
  }
 },
 "nbformat": 4,
 "nbformat_minor": 2
}
